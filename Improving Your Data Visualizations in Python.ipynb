{
 "cells": [
  {
   "cell_type": "markdown",
   "metadata": {
    "toc": true
   },
   "source": [
    "<h1>Table of Contents<span class=\"tocSkip\"></span></h1>\n",
    "<div class=\"toc\"><ul class=\"toc-item\"><li><span><a href=\"#Highlighting-your-data\" data-toc-modified-id=\"Highlighting-your-data-1\"><span class=\"toc-item-num\">1&nbsp;&nbsp;</span>Highlighting your data</a></span><ul class=\"toc-item\"><li><span><a href=\"#Hardcoding-a-highlight\" data-toc-modified-id=\"Hardcoding-a-highlight-1.1\"><span class=\"toc-item-num\">1.1&nbsp;&nbsp;</span>Hardcoding a highlight</a></span></li><li><span><a href=\"#Programmatically-creating-a-highlight\" data-toc-modified-id=\"Programmatically-creating-a-highlight-1.2\"><span class=\"toc-item-num\">1.2&nbsp;&nbsp;</span>Programmatically creating a highlight</a></span></li><li><span><a href=\"#Comparing-with-two-KDEs\" data-toc-modified-id=\"Comparing-with-two-KDEs-1.3\"><span class=\"toc-item-num\">1.3&nbsp;&nbsp;</span>Comparing with two KDEs</a></span></li><li><span><a href=\"#Improving-your-KDEs\" data-toc-modified-id=\"Improving-your-KDEs-1.4\"><span class=\"toc-item-num\">1.4&nbsp;&nbsp;</span>Improving your KDEs</a></span></li><li><span><a href=\"#Beeswarms\" data-toc-modified-id=\"Beeswarms-1.5\"><span class=\"toc-item-num\">1.5&nbsp;&nbsp;</span>Beeswarms</a></span></li><li><span><a href=\"#A-basic-text-annotation\" data-toc-modified-id=\"A-basic-text-annotation-1.6\"><span class=\"toc-item-num\">1.6&nbsp;&nbsp;</span>A basic text annotation</a></span></li><li><span><a href=\"#Arrow-annotations\" data-toc-modified-id=\"Arrow-annotations-1.7\"><span class=\"toc-item-num\">1.7&nbsp;&nbsp;</span>Arrow annotations</a></span></li><li><span><a href=\"#Combining-annotations-and-color\" data-toc-modified-id=\"Combining-annotations-and-color-1.8\"><span class=\"toc-item-num\">1.8&nbsp;&nbsp;</span>Combining annotations and color</a></span></li></ul></li><li><span><a href=\"#Using-color-in-your-visualizations\" data-toc-modified-id=\"Using-color-in-your-visualizations-2\"><span class=\"toc-item-num\">2&nbsp;&nbsp;</span>Using color in your visualizations</a></span><ul class=\"toc-item\"><li><span><a href=\"#Getting-rid-of-unnecessary-color\" data-toc-modified-id=\"Getting-rid-of-unnecessary-color-2.1\"><span class=\"toc-item-num\">2.1&nbsp;&nbsp;</span>Getting rid of unnecessary color</a></span></li><li><span><a href=\"#Fixing-Seaborn's-bar-charts\" data-toc-modified-id=\"Fixing-Seaborn's-bar-charts-2.2\"><span class=\"toc-item-num\">2.2&nbsp;&nbsp;</span>Fixing Seaborn's bar charts</a></span></li><li><span><a href=\"#Making-a-custom-continuous-palette\" data-toc-modified-id=\"Making-a-custom-continuous-palette-2.3\"><span class=\"toc-item-num\">2.3&nbsp;&nbsp;</span>Making a custom continuous palette</a></span></li><li><span><a href=\"#Customizing-a-diverging-palette-heatmap\" data-toc-modified-id=\"Customizing-a-diverging-palette-heatmap-2.4\"><span class=\"toc-item-num\">2.4&nbsp;&nbsp;</span>Customizing a diverging palette heatmap</a></span></li><li><span><a href=\"#Adjusting-your-palette-according-to-context\" data-toc-modified-id=\"Adjusting-your-palette-according-to-context-2.5\"><span class=\"toc-item-num\">2.5&nbsp;&nbsp;</span>Adjusting your palette according to context</a></span></li><li><span><a href=\"#Dealing-with-too-many-categories\" data-toc-modified-id=\"Dealing-with-too-many-categories-2.6\"><span class=\"toc-item-num\">2.6&nbsp;&nbsp;</span>Dealing with too many categories</a></span></li><li><span><a href=\"#Coloring-ordinal-categories\" data-toc-modified-id=\"Coloring-ordinal-categories-2.7\"><span class=\"toc-item-num\">2.7&nbsp;&nbsp;</span>Coloring ordinal categories</a></span></li><li><span><a href=\"#Choosing-the-right-variable-to-encode-with-color\" data-toc-modified-id=\"Choosing-the-right-variable-to-encode-with-color-2.8\"><span class=\"toc-item-num\">2.8&nbsp;&nbsp;</span>Choosing the right variable to encode with color</a></span></li></ul></li><li><span><a href=\"#Showing-uncertainty\" data-toc-modified-id=\"Showing-uncertainty-3\"><span class=\"toc-item-num\">3&nbsp;&nbsp;</span>Showing uncertainty</a></span><ul class=\"toc-item\"><li><span><a href=\"#Basic-confidence-intervals\" data-toc-modified-id=\"Basic-confidence-intervals-3.1\"><span class=\"toc-item-num\">3.1&nbsp;&nbsp;</span>Basic confidence intervals</a></span></li><li><span><a href=\"#Annotating-confidence-intervals\" data-toc-modified-id=\"Annotating-confidence-intervals-3.2\"><span class=\"toc-item-num\">3.2&nbsp;&nbsp;</span>Annotating confidence intervals</a></span></li><li><span><a href=\"#Making-a-confidence-band\" data-toc-modified-id=\"Making-a-confidence-band-3.3\"><span class=\"toc-item-num\">3.3&nbsp;&nbsp;</span>Making a confidence band</a></span></li><li><span><a href=\"#Separating-a-lot-of-bands\" data-toc-modified-id=\"Separating-a-lot-of-bands-3.4\"><span class=\"toc-item-num\">3.4&nbsp;&nbsp;</span>Separating a lot of bands</a></span></li><li><span><a href=\"#Cleaning-up-bands-for-overlaps\" data-toc-modified-id=\"Cleaning-up-bands-for-overlaps-3.5\"><span class=\"toc-item-num\">3.5&nbsp;&nbsp;</span>Cleaning up bands for overlaps</a></span></li><li><span><a href=\"#90,-95,-and-99%-intervals\" data-toc-modified-id=\"90,-95,-and-99%-intervals-3.6\"><span class=\"toc-item-num\">3.6&nbsp;&nbsp;</span>90, 95, and 99% intervals</a></span></li><li><span><a href=\"#90-and-95%-bands\" data-toc-modified-id=\"90-and-95%-bands-3.7\"><span class=\"toc-item-num\">3.7&nbsp;&nbsp;</span>90 and 95% bands</a></span></li><li><span><a href=\"#Using-band-thickness-instead-of-coloring\" data-toc-modified-id=\"Using-band-thickness-instead-of-coloring-3.8\"><span class=\"toc-item-num\">3.8&nbsp;&nbsp;</span>Using band thickness instead of coloring</a></span></li><li><span><a href=\"#The-bootstrap-histogram\" data-toc-modified-id=\"The-bootstrap-histogram-3.9\"><span class=\"toc-item-num\">3.9&nbsp;&nbsp;</span>The bootstrap histogram</a></span></li><li><span><a href=\"#Bootstrapped-regressions\" data-toc-modified-id=\"Bootstrapped-regressions-3.10\"><span class=\"toc-item-num\">3.10&nbsp;&nbsp;</span>Bootstrapped regressions</a></span></li><li><span><a href=\"#Lots-of-bootstraps-with-beeswarms\" data-toc-modified-id=\"Lots-of-bootstraps-with-beeswarms-3.11\"><span class=\"toc-item-num\">3.11&nbsp;&nbsp;</span>Lots of bootstraps with beeswarms</a></span></li></ul></li><li><span><a href=\"#Visualization-in-the-data-science-workflow\" data-toc-modified-id=\"Visualization-in-the-data-science-workflow-4\"><span class=\"toc-item-num\">4&nbsp;&nbsp;</span>Visualization in the data science workflow</a></span><ul class=\"toc-item\"><li><span><a href=\"#Looking-at-the-farmers-market-data\" data-toc-modified-id=\"Looking-at-the-farmers-market-data-4.1\"><span class=\"toc-item-num\">4.1&nbsp;&nbsp;</span>Looking at the farmers market data</a></span></li><li><span><a href=\"#Scatter-matrix-of-numeric-columns\" data-toc-modified-id=\"Scatter-matrix-of-numeric-columns-4.2\"><span class=\"toc-item-num\">4.2&nbsp;&nbsp;</span>Scatter matrix of numeric columns</a></span></li><li><span><a href=\"#Digging-in-with-basic-transforms\" data-toc-modified-id=\"Digging-in-with-basic-transforms-4.3\"><span class=\"toc-item-num\">4.3&nbsp;&nbsp;</span>Digging in with basic transforms</a></span></li><li><span><a href=\"#Is-latitude-related-to-months-open?\" data-toc-modified-id=\"Is-latitude-related-to-months-open?-4.4\"><span class=\"toc-item-num\">4.4&nbsp;&nbsp;</span>Is latitude related to months open?</a></span></li><li><span><a href=\"#What-state-is-the-most-market-friendly?\" data-toc-modified-id=\"What-state-is-the-most-market-friendly?-4.5\"><span class=\"toc-item-num\">4.5&nbsp;&nbsp;</span>What state is the most market-friendly?</a></span></li><li><span><a href=\"#Popularity-of-goods-sold-by-state\" data-toc-modified-id=\"Popularity-of-goods-sold-by-state-4.6\"><span class=\"toc-item-num\">4.6&nbsp;&nbsp;</span>Popularity of goods sold by state</a></span></li><li><span><a href=\"#Stacking-to-find-trends\" data-toc-modified-id=\"Stacking-to-find-trends-4.7\"><span class=\"toc-item-num\">4.7&nbsp;&nbsp;</span>Stacking to find trends</a></span></li><li><span><a href=\"#Using-a-plot-as-a-legend\" data-toc-modified-id=\"Using-a-plot-as-a-legend-4.8\"><span class=\"toc-item-num\">4.8&nbsp;&nbsp;</span>Using a plot as a legend</a></span></li><li><span><a href=\"#Cleaning-up-the-background\" data-toc-modified-id=\"Cleaning-up-the-background-4.9\"><span class=\"toc-item-num\">4.9&nbsp;&nbsp;</span>Cleaning up the background</a></span></li><li><span><a href=\"#Remixing-a-plot\" data-toc-modified-id=\"Remixing-a-plot-4.10\"><span class=\"toc-item-num\">4.10&nbsp;&nbsp;</span>Remixing a plot</a></span></li><li><span><a href=\"#Enhancing-legibility\" data-toc-modified-id=\"Enhancing-legibility-4.11\"><span class=\"toc-item-num\">4.11&nbsp;&nbsp;</span>Enhancing legibility</a></span></li></ul></li></ul></div>"
   ]
  },
  {
   "cell_type": "markdown",
   "metadata": {},
   "source": [
    "# Highlighting your data\n"
   ]
  },
  {
   "cell_type": "markdown",
   "metadata": {},
   "source": [
    "## Hardcoding a highlight"
   ]
  },
  {
   "cell_type": "code",
   "execution_count": null,
   "metadata": {},
   "outputs": [],
   "source": [
    "houston_pollution = pollution[pollution.city  ==  'Houston']\n",
    "\n",
    "# Make array orangred for day 330 of year 2014, otherwise lightgray\n",
    "houston_colors = ['orangered' if (day  ==  330) & (year  ==  2014) else 'lightgray' \n",
    "                  for day,year in zip(houston_pollution.day, houston_pollution.year)]\n",
    "\n",
    "sns.regplot(x = 'NO2',\n",
    "            y = 'SO2',\n",
    "            data = houston_pollution,\n",
    "            fit_reg = False, \n",
    "            # Send scatterplot argument to color points\n",
    "            scatter_kws = {'facecolors': houston_colors, 'alpha': 0.7})\n",
    "plt.show()"
   ]
  },
  {
   "cell_type": "markdown",
   "metadata": {},
   "source": [
    "## Programmatically creating a highlight"
   ]
  },
  {
   "cell_type": "code",
   "execution_count": null,
   "metadata": {},
   "outputs": [],
   "source": [
    "houston_pollution = pollution[pollution.city  ==  'Houston'].copy()\n",
    "\n",
    "# Find the highest observed O3 value\n",
    "max_O3 = houston_pollution.O3.max()\n",
    "\n",
    "# Make a column that denotes which day had highest O3\n",
    "houston_pollution['point_type'] = ['Highest O3 Day' if O3  ==  max_O3 else 'Others' for O3 in houston_pollution.O3]\n",
    "\n",
    "# Encode the hue of the points with the O3 generated column\n",
    "sns.scatterplot(x = 'NO2',\n",
    "                y = 'SO2',\n",
    "                hue = 'point_type',\n",
    "                data = houston_pollution)\n",
    "plt.show()"
   ]
  },
  {
   "cell_type": "markdown",
   "metadata": {},
   "source": [
    "## Comparing with two KDEs"
   ]
  },
  {
   "cell_type": "code",
   "execution_count": null,
   "metadata": {},
   "outputs": [],
   "source": [
    "# Filter dataset to the year 2012\n",
    "sns.kdeplot(pollution[pollution.year == 2012].O3, \n",
    "            # Shade under kde and add a helpful label\n",
    "            shade = True,\n",
    "            label = '2012')\n",
    "\n",
    "# Filter dataset to everything except the year 2012\n",
    "sns.kdeplot(pollution[pollution.year != 2012].O3, \n",
    "            # Again, shade under kde and add a helpful label           \n",
    "            shade = True,\n",
    "            label = 'other years')\n",
    "plt.show()"
   ]
  },
  {
   "cell_type": "markdown",
   "metadata": {},
   "source": [
    "## Improving your KDEs"
   ]
  },
  {
   "cell_type": "code",
   "execution_count": null,
   "metadata": {},
   "outputs": [],
   "source": [
    "sns.distplot(pollution[pollution.city == 'Vandenberg Air Force Base'].O3, \n",
    "             label = 'Vandenberg',\n",
    "                # Turn of the histogram and color blue to stand out\n",
    "               hist = False, \n",
    "             color = 'steelblue',  \n",
    "               # Turn on rugplot\n",
    "               rug = True)\n",
    "\n",
    "sns.distplot(pollution[pollution.city != 'Vandenberg Air Force Base'].O3,\n",
    "             label = 'Other cities',\n",
    "               # Turn off histogram and color gray\n",
    "               hist = False,\n",
    "             color = 'gray')\n",
    "plt.show()"
   ]
  },
  {
   "cell_type": "markdown",
   "metadata": {},
   "source": [
    "## Beeswarms"
   ]
  },
  {
   "cell_type": "code",
   "execution_count": null,
   "metadata": {},
   "outputs": [],
   "source": [
    "# Filter data to just March\n",
    "pollution_mar = pollution[pollution.month == 3]\n",
    "\n",
    "# Plot beeswarm with x as O3\n",
    "sns.swarmplot(y = \"city\",\n",
    "              x = \"O3\", \n",
    "              data = pollution_mar, \n",
    "              # Decrease the size of the points to avoid crowding \n",
    "              size = 3)\n",
    "\n",
    "# Give a descriptive title\n",
    "plt.title('March Ozone levels by city')\n",
    "plt.show()"
   ]
  },
  {
   "cell_type": "markdown",
   "metadata": {},
   "source": [
    "## A basic text annotation"
   ]
  },
  {
   "cell_type": "code",
   "execution_count": null,
   "metadata": {},
   "outputs": [],
   "source": [
    "# Draw basic scatter plot of pollution data for August\n",
    "sns.scatterplot(x = 'CO', y = 'SO2', data = pollution[pollution.month  ==  8])\n",
    "\n",
    "# Label highest SO2 value with text annotation\n",
    "plt.text(0.57, 41,\n",
    "         'Cincinnati had highest observed\\nSO2 value on Aug 11, 2013', \n",
    "         # Set the font to large\n",
    "         fontdict = {'ha': 'left', 'size': 'large'})\n",
    "plt.show()"
   ]
  },
  {
   "cell_type": "markdown",
   "metadata": {},
   "source": [
    "## Arrow annotations"
   ]
  },
  {
   "cell_type": "code",
   "execution_count": null,
   "metadata": {},
   "outputs": [],
   "source": [
    "# Query and filter to New Years in Long Beach\n",
    "jan_pollution = pollution.query(\"(month  ==  1) & (year  ==  2012)\")\n",
    "lb_newyears = jan_pollution.query(\"(day  ==  1) & (city  ==  'Long Beach')\")\n",
    "\n",
    "sns.scatterplot(x = 'CO', y = 'NO2',\n",
    "                data = jan_pollution)\n",
    "\n",
    "# Point arrow to lb_newyears & place text in lower left \n",
    "plt.annotate('Long Beach New Years',\n",
    "             xy = (lb_newyears.CO, lb_newyears.NO2),\n",
    "             xytext = (2, 15), \n",
    "             # Shrink the arrow to avoid occlusion\n",
    "             arrowprops = {'facecolor':'gray', 'width': 3, 'shrink': 0.03},\n",
    "             backgroundcolor = 'white')\n",
    "plt.show()"
   ]
  },
  {
   "cell_type": "markdown",
   "metadata": {},
   "source": [
    "## Combining annotations and color"
   ]
  },
  {
   "cell_type": "code",
   "execution_count": null,
   "metadata": {},
   "outputs": [],
   "source": [
    "# Make a vector where Long Beach is orangered; else lightgray\n",
    "is_lb = ['orangered' if city  ==  'Long Beach' else 'lightgray' for city in pollution['city']]"
   ]
  },
  {
   "cell_type": "code",
   "execution_count": null,
   "metadata": {},
   "outputs": [],
   "source": [
    "# Make a vector where Long Beach is orangered; else lightgray\n",
    "is_lb = ['orangered' if city  ==  'Long Beach' else 'lightgray' for city in pollution['city']]\n",
    "\n",
    "# Map facecolors to the list is_lb and set alpha to 0.3\n",
    "sns.regplot(x = 'CO',\n",
    "            y = 'O3',\n",
    "            data = pollution,\n",
    "            fit_reg = False, \n",
    "            scatter_kws = {'facecolors':is_lb, 'alpha':0.3})\n",
    "plt.show() "
   ]
  },
  {
   "cell_type": "code",
   "execution_count": null,
   "metadata": {},
   "outputs": [],
   "source": [
    "# Make a vector where Long Beach is orangered; else lightgray\n",
    "is_lb = ['orangered' if city  ==  'Long Beach' else 'lightgray' for city in pollution['city']]\n",
    "\n",
    "# Map facecolors to the list is_lb and set alpha to 0.3\n",
    "sns.regplot(x = 'CO',\n",
    "            y = 'O3',\n",
    "            data = pollution,\n",
    "            fit_reg = False,\n",
    "            scatter_kws = {'facecolors':is_lb, 'alpha': 0.3})\n",
    "\n",
    "# Add annotation to plot\n",
    "plt.text(1.6, 0.072, 'April 30th, Bad Day')\n",
    "plt.show() "
   ]
  },
  {
   "cell_type": "markdown",
   "metadata": {},
   "source": [
    "# Using color in your visualizations"
   ]
  },
  {
   "cell_type": "markdown",
   "metadata": {},
   "source": [
    "## Getting rid of unnecessary color"
   ]
  },
  {
   "cell_type": "code",
   "execution_count": null,
   "metadata": {},
   "outputs": [],
   "source": [
    "# Hard to read scatter of CO and NO2 w/ color mapped to city\n",
    "# sns.scatterplot('CO', 'NO2',\n",
    "#                 alpha = 0.2,\n",
    "#                 hue = 'city',\n",
    "#                 data = pollution)\n",
    "\n",
    "# Setup a facet grid to separate the cities apart\n",
    "g = sns.FacetGrid(data = pollution,\n",
    "                  col = 'city',\n",
    "                  col_wrap = 3)\n",
    "\n",
    "# Map sns.scatterplot to create separate city scatter plots\n",
    "g.map(sns.scatterplot,'CO', 'NO2', alpha = 0.2)\n",
    "plt.show()"
   ]
  },
  {
   "cell_type": "markdown",
   "metadata": {},
   "source": [
    "## Fixing Seaborn's bar charts"
   ]
  },
  {
   "cell_type": "code",
   "execution_count": null,
   "metadata": {},
   "outputs": [],
   "source": [
    "import numpy as np\n",
    "\n",
    "sns.barplot(y = 'city', x = 'CO', \n",
    "              estimator = np.mean,\n",
    "            ci = False,\n",
    "              data = pollution,\n",
    "              # Add a border to the bars\n",
    "              edgecolor = 'black')\n",
    "plt.show()"
   ]
  },
  {
   "cell_type": "code",
   "execution_count": null,
   "metadata": {},
   "outputs": [],
   "source": [
    "import numpy as np\n",
    "\n",
    "sns.barplot(y = 'city', x = 'CO', \n",
    "              estimator = np.mean,\n",
    "            ci = False,\n",
    "              data = pollution,\n",
    "              # Replace border with bar colors\n",
    "              color = 'cadetblue')\n",
    "plt.show()"
   ]
  },
  {
   "cell_type": "markdown",
   "metadata": {},
   "source": [
    "## Making a custom continuous palette"
   ]
  },
  {
   "cell_type": "code",
   "execution_count": null,
   "metadata": {},
   "outputs": [],
   "source": [
    "# Filter the data\n",
    "cinci_2014 = pollution.query(\"city  ==  'Cincinnati' & year  ==  2014\")\n",
    "\n",
    "# Define a custom continuous color palette\n",
    "color_palette = sns.light_palette('orangered',\n",
    "                                  as_cmap = True)\n",
    "\n",
    "# Plot mapping the color of the points with custom palette\n",
    "sns.scatterplot(x = 'CO',\n",
    "                y = 'NO2',\n",
    "                hue = 'O3', \n",
    "                data = cinci_2014,\n",
    "                palette = color_palette)\n",
    "plt.show()"
   ]
  },
  {
   "cell_type": "markdown",
   "metadata": {},
   "source": [
    "## Customizing a diverging palette heatmap"
   ]
  },
  {
   "cell_type": "code",
   "execution_count": null,
   "metadata": {},
   "outputs": [],
   "source": [
    "# Define a custom palette\n",
    "color_palette = sns.diverging_palette(250, 0, as_cmap = True)\n",
    "\n",
    "# Pass palette to plot and set axis ranges\n",
    "sns.heatmap(nov_2015_CO,\n",
    "            cmap = color_palette,\n",
    "            center = 0,\n",
    "            vmin = -4,\n",
    "            vmax = 4)\n",
    "plt.yticks(rotation = 0)\n",
    "plt.show()"
   ]
  },
  {
   "cell_type": "markdown",
   "metadata": {},
   "source": [
    "## Adjusting your palette according to context"
   ]
  },
  {
   "cell_type": "code",
   "execution_count": null,
   "metadata": {},
   "outputs": [],
   "source": [
    "# Dark plot background\n",
    "plt.style.use(\"dark_background\")\n",
    "\n",
    "# Modify palette for dark background\n",
    "color_palette = sns.diverging_palette(250, 0,\n",
    "                                      center = 'dark',\n",
    "                                      as_cmap = True)\n",
    "\n",
    "# Pass palette to plot and set center\n",
    "sns.heatmap(oct_2015_o3,\n",
    "            cmap = color_palette,\n",
    "            center = 0)\n",
    "plt.yticks(rotation = 0)\n",
    "plt.show()"
   ]
  },
  {
   "cell_type": "code",
   "execution_count": null,
   "metadata": {},
   "outputs": [],
   "source": [
    "# Filter data to Jan 2013\n",
    "pollution_jan13 = pollution.query('year  ==  2013 & month  ==  1')\n",
    "\n",
    "# Color lines by the city and use custom ColorBrewer palette\n",
    "sns.lineplot(x = \"day\",\n",
    "             y = \"CO\",\n",
    "             hue = \"city\",\n",
    "             palette = \"Set2\",\n",
    "             linewidth = 3,\n",
    "             data = pollution_jan13)\n",
    "plt.show()"
   ]
  },
  {
   "cell_type": "markdown",
   "metadata": {},
   "source": [
    "## Dealing with too many categories"
   ]
  },
  {
   "cell_type": "code",
   "execution_count": null,
   "metadata": {},
   "outputs": [],
   "source": [
    "# Choose the combos that get distinct colors\n",
    "wanted_combos = ['Vandenberg Air Force Base NO2', 'Long Beach CO', 'Cincinnati SO2']\n",
    "\n",
    "# Assign a new column to DataFrame for isolating the desired combos\n",
    "city_pol_month['color_cats'] = [x if x in wanted_combos else 'other' for x in city_pol_month['city_pol']]\n",
    "\n",
    "# Plot lines with color driven by new column and lines driven by original categories\n",
    "sns.lineplot(x = \"month\",\n",
    "             y = \"value\",\n",
    "             hue = 'color_cats',\n",
    "             units = 'city_pol',\n",
    "             estimator = None,\n",
    "             palette = 'Set2',\n",
    "             data = city_pol_month)\n",
    "plt.show()"
   ]
  },
  {
   "cell_type": "markdown",
   "metadata": {},
   "source": [
    "## Coloring ordinal categories"
   ]
  },
  {
   "cell_type": "code",
   "execution_count": null,
   "metadata": {},
   "outputs": [],
   "source": [
    "# Divide CO into quartiles\n",
    "pollution['CO quartile'] = pd.qcut(pollution['CO'], q = 4, labels = False)\n",
    "\n",
    "# Filter to just Des Moines\n",
    "des_moines = pollution.query(\"city  ==  'Des Moines'\")\n",
    "\n",
    "# Color points with by quartile and use ColorBrewer palette\n",
    "sns.scatterplot(x = 'SO2',\n",
    "                y = 'NO2',\n",
    "                hue = 'CO quartile', \n",
    "                  data = des_moines,\n",
    "                palette = 'GnBu')\n",
    "plt.show()"
   ]
  },
  {
   "cell_type": "markdown",
   "metadata": {},
   "source": [
    "## Choosing the right variable to encode with color"
   ]
  },
  {
   "cell_type": "code",
   "execution_count": null,
   "metadata": {},
   "outputs": [],
   "source": [
    "# Reduce to just cities in the western half of US\n",
    "cities = ['Fairbanks', 'Long Beach', 'Vandenberg Air Force Base', 'Denver']\n",
    "\n",
    "\n",
    "# Filter data to desired cities\n",
    "city_maxes = max_pollutant_values[max_pollutant_values.city.isin(cities)]\n",
    "\n",
    "# Swap city and year encodings\n",
    "sns.catplot(x = 'city', hue = 'year',\n",
    "              y = 'value', row = 'pollutant',\n",
    "              # Change palette to one appropriate for ordinal categories\n",
    "              data = city_maxes, palette = 'BuGn',\n",
    "              sharey = False, kind = 'bar')\n",
    "plt.show()"
   ]
  },
  {
   "cell_type": "markdown",
   "metadata": {},
   "source": [
    "# Showing uncertainty"
   ]
  },
  {
   "cell_type": "markdown",
   "metadata": {},
   "source": [
    "## Basic confidence intervals"
   ]
  },
  {
   "cell_type": "code",
   "execution_count": null,
   "metadata": {},
   "outputs": [],
   "source": [
    "# Construct CI bounds for averages\n",
    "average_ests['lower'] = average_ests['mean'] - 1.96*average_ests['std_err']\n",
    "average_ests['upper'] = average_ests['mean'] + 1.96*average_ests['std_err']\n",
    "\n",
    "# Setup a grid of plots, with non-shared x axes limits\n",
    "g = sns.FacetGrid(average_ests, row = 'pollutant', sharex = False)\n",
    "\n",
    "# Plot CI for average estimate\n",
    "g.map(plt.hlines, 'y', 'lower', 'upper')\n",
    "\n",
    "# Plot observed values for comparison and remove axes labels\n",
    "g.map(plt.scatter, 'seen', 'y', color = 'orangered').set_ylabels('').set_xlabels('')\n",
    "\n",
    "plt.show()"
   ]
  },
  {
   "cell_type": "markdown",
   "metadata": {},
   "source": [
    "## Annotating confidence intervals"
   ]
  },
  {
   "cell_type": "code",
   "execution_count": null,
   "metadata": {},
   "outputs": [],
   "source": [
    "# Set start and ends according to intervals \n",
    "# Make lines thicker and transparent\n",
    "plt.hlines(y = 'year', xmin = 'lower', xmax = 'upper', \n",
    "           linewidth = 5, color = 'steelblue', alpha = 0.7,\n",
    "           data = diffs_by_year)\n",
    "# Point estimates\n",
    "plt.plot('mean', 'year', 'k|', data = diffs_by_year)\n",
    "\n",
    "# Add a 'null' reference line at 0 and color orangered\n",
    "plt.axvline(x = 0, color = 'orangered', linestyle = '--')\n",
    "\n",
    "# Set descriptive axis labels and title\n",
    "plt.xlabel('95% CI')\n",
    "plt.title('Avg SO2 differences between Cincinnati and Indianapolis')\n",
    "plt.show()"
   ]
  },
  {
   "cell_type": "markdown",
   "metadata": {},
   "source": [
    "## Making a confidence band"
   ]
  },
  {
   "cell_type": "code",
   "execution_count": null,
   "metadata": {},
   "outputs": [],
   "source": [
    "# Draw 99% inverval bands for average NO2\n",
    "vandenberg_NO2['lower'] = vandenberg_NO2['mean'] - 2.58*vandenberg_NO2['std_err']\n",
    "vandenberg_NO2['upper'] = vandenberg_NO2['mean'] + 2.58*vandenberg_NO2['std_err']\n",
    "\n",
    "# Plot mean estimate as a white semi-transparent line\n",
    "plt.plot('day', 'mean', data = vandenberg_NO2,\n",
    "         color = 'white', alpha = 0.4)\n",
    "\n",
    "# Fill between the upper and lower confidence band values\n",
    "plt.fill_between(x = 'day', \n",
    "                 y1 = 'lower', y2 = 'upper', \n",
    "                 data = vandenberg_NO2)\n",
    "\n",
    "plt.show()"
   ]
  },
  {
   "cell_type": "markdown",
   "metadata": {},
   "source": [
    "## Separating a lot of bands"
   ]
  },
  {
   "cell_type": "code",
   "execution_count": null,
   "metadata": {},
   "outputs": [],
   "source": [
    "# Setup a grid of plots with columns divided by location\n",
    "g = sns.FacetGrid(eastern_SO2, col = 'city', col_wrap = 2)\n",
    "\n",
    "# Map interval plots to each cities data with corol colored ribbons\n",
    "g.map(plt.fill_between, 'day', 'lower', 'upper', color = 'coral')\n",
    "\n",
    "# Map overlaid mean plots with white line\n",
    "g.map(plt.plot, 'day', 'mean', color = 'white')\n",
    "\n",
    "plt.show()"
   ]
  },
  {
   "cell_type": "markdown",
   "metadata": {},
   "source": [
    "## Cleaning up bands for overlaps"
   ]
  },
  {
   "cell_type": "code",
   "execution_count": null,
   "metadata": {},
   "outputs": [],
   "source": [
    "for city, color in [('Denver',\"#66c2a5\"), ('Long Beach', \"#fc8d62\")]:\n",
    "    # Filter data to desired city\n",
    "    city_data = SO2_compare[SO2_compare.city  ==  city]\n",
    "\n",
    "    # Set city interval color to desired and lower opacity\n",
    "    plt.fill_between(x = 'day', y1 = 'lower', y2 = 'upper', data = city_data,\n",
    "                     color = color, alpha = 0.4 )\n",
    "    \n",
    "    # Draw a faint mean line for reference and give a label for legend\n",
    "    plt.plot('day','mean', data = city_data, label = city,\n",
    "             color = color, alpha = 0.25)\n",
    "\n",
    "plt.legend()\n",
    "plt.show()"
   ]
  },
  {
   "cell_type": "markdown",
   "metadata": {},
   "source": [
    "## 90, 95, and 99% intervals"
   ]
  },
  {
   "cell_type": "code",
   "execution_count": null,
   "metadata": {},
   "outputs": [],
   "source": [
    "# Add interval percent widths\n",
    "alphas = [     0.01,  0.05,   0.1] \n",
    "widths = [ '99% CI', '95%', '90%']\n",
    "colors = ['#fee08b','#fc8d59','#d53e4f']\n",
    "\n",
    "for alpha, color, width in zip(alphas, colors, widths):\n",
    "    # Grab confidence interval\n",
    "    conf_ints = pollution_model.conf_int(alpha)\n",
    "    \n",
    "    # Pass current interval color and legend label to plot\n",
    "    plt.hlines(y = conf_ints.index, xmin = conf_ints[0], xmax = conf_ints[1],\n",
    "               colors = color, label = width, linewidth = 10) \n",
    "\n",
    "# Draw point estimates\n",
    "plt.plot(pollution_model.params, pollution_model.params.index, 'wo', label = 'Point Estimate')\n",
    "\n",
    "plt.legend()\n",
    "plt.show() "
   ]
  },
  {
   "cell_type": "markdown",
   "metadata": {},
   "source": [
    "## 90 and 95% bands"
   ]
  },
  {
   "cell_type": "code",
   "execution_count": null,
   "metadata": {},
   "outputs": [],
   "source": [
    "int_widths = ['90%', '99%']\n",
    "z_scores = [1.67, 2.58]\n",
    "colors = ['#fc8d59', '#fee08b']\n",
    "\n",
    "for percent, Z, color in zip(int_widths, z_scores, colors):\n",
    "    \n",
    "    # Pass lower and upper confidence bounds and lower opacity\n",
    "    plt.fill_between(\n",
    "        x = cinci_13_no2.day, alpha = 0.4, color = color,\n",
    "        y1 = cinci_13_no2['mean'] - Z*cinci_13_no2['std_err'],\n",
    "        y2 = cinci_13_no2['mean'] + Z*cinci_13_no2['std_err'],\n",
    "        label = percent)\n",
    "    \n",
    "plt.legend()\n",
    "plt.show()"
   ]
  },
  {
   "cell_type": "markdown",
   "metadata": {},
   "source": [
    "## Using band thickness instead of coloring"
   ]
  },
  {
   "cell_type": "code",
   "execution_count": null,
   "metadata": {},
   "outputs": [],
   "source": [
    "# Decrase interval thickness as interval widens\n",
    "sizes =      [      15,    10,     5]\n",
    "int_widths = ['90% CI', '95%', '99%']\n",
    "z_scores =   [    1.67,  1.96,  2.58]\n",
    "\n",
    "for percent, Z, size in zip(int_widths, z_scores, sizes):\n",
    "    plt.hlines(y = rocket_model.pollutant, \n",
    "               xmin = rocket_model['est'] - Z*rocket_model['std_err'],\n",
    "               xmax = rocket_model['est'] + Z*rocket_model['std_err'],\n",
    "               label = percent, \n",
    "               # Resize lines and color them gray\n",
    "               linewidth = size, \n",
    "               color = 'gray') \n",
    "\n",
    "# Add point estimate\n",
    "plt.plot('est', 'pollutant', 'wo', data = rocket_model, label = 'Point Estimate')\n",
    "plt.legend(loc = 'center left', bbox_to_anchor = (1, 0.5))\n",
    "plt.show()"
   ]
  },
  {
   "cell_type": "markdown",
   "metadata": {},
   "source": [
    "## The bootstrap histogram"
   ]
  },
  {
   "cell_type": "code",
   "execution_count": null,
   "metadata": {},
   "outputs": [],
   "source": [
    "cinci_may_NO2 = pollution.query(\"city  ==  'Cincinnati' & month  ==  5\").NO2\n",
    "\n",
    "# Generate bootstrap samples\n",
    "boot_means = bootstrap(cinci_may_NO2, 1000)\n",
    "\n",
    "# Get lower and upper 95% interval bounds\n",
    "lower, upper = np.percentile(boot_means, [2.5, 97.5])\n",
    "\n",
    "# Plot shaded area for interval\n",
    "plt.axvspan(lower, upper, color = 'gray', alpha = 0.2)\n",
    "\n",
    "# Draw histogram of bootstrap samples\n",
    "sns.distplot(boot_means, bins = 100, kde = False)\n",
    "\n",
    "plt.show()"
   ]
  },
  {
   "cell_type": "markdown",
   "metadata": {},
   "source": [
    "## Bootstrapped regressions"
   ]
  },
  {
   "cell_type": "code",
   "execution_count": null,
   "metadata": {},
   "outputs": [],
   "source": [
    "sns.lmplot('NO2', 'SO2', data = no2_so2_boot,\n",
    "           # Tell seaborn to a regression line for each sample\n",
    "           hue = 'sample', \n",
    "           # Make lines blue and transparent\n",
    "           line_kws = {'color': 'steelblue', 'alpha': 0.2},\n",
    "           # Disable built-in confidence intervals\n",
    "           ci = None, legend = False, scatter = False)\n",
    "\n",
    "# Draw scatter of all points\n",
    "plt.scatter('NO2', 'SO2', data = no2_so2)\n",
    "\n",
    "plt.show()"
   ]
  },
  {
   "cell_type": "markdown",
   "metadata": {},
   "source": [
    "## Lots of bootstraps with beeswarms"
   ]
  },
  {
   "cell_type": "code",
   "execution_count": null,
   "metadata": {},
   "outputs": [],
   "source": [
    "# Initialize a holder DataFrame for bootstrap results\n",
    "city_boots = pd.DataFrame()\n",
    "\n",
    "for city in ['Cincinnati', 'Des Moines', 'Indianapolis', 'Houston']:\n",
    "    # Filter to city\n",
    "    city_NO2 = pollution_may[pollution_may.city  ==  city].NO2\n",
    "    # Bootstrap city data & put in DataFrame\n",
    "    cur_boot = pd.DataFrame({'NO2_avg': bootstrap(city_NO2, 100), 'city': city})\n",
    "    # Append to other city's bootstraps\n",
    "    city_boots = pd.concat([city_boots,cur_boot])\n",
    "\n",
    "# Beeswarm plot of averages with citys on y axis\n",
    "sns.swarmplot(y = \"city\", x = \"NO2_avg\", data = city_boots, color = 'coral')\n",
    "\n",
    "plt.show()"
   ]
  },
  {
   "cell_type": "markdown",
   "metadata": {},
   "source": [
    "# Visualization in the data science workflow"
   ]
  },
  {
   "cell_type": "markdown",
   "metadata": {},
   "source": [
    "## Looking at the farmers market data"
   ]
  },
  {
   "cell_type": "code",
   "execution_count": null,
   "metadata": {},
   "outputs": [],
   "source": [
    "# Print first three rows of data and transpose\n",
    "first_rows = markets.head(3).transpose()\n",
    "print(first_rows)\n",
    "\n",
    "# Get descriptions of every column\n",
    "col_descriptions = markets.describe(include = 'all',\n",
    "                                    percentiles = [0.5]).transpose()\n",
    "print(col_descriptions)"
   ]
  },
  {
   "cell_type": "markdown",
   "metadata": {},
   "source": [
    "## Scatter matrix of numeric columns"
   ]
  },
  {
   "cell_type": "code",
   "execution_count": null,
   "metadata": {},
   "outputs": [],
   "source": [
    "# Select just the numeric columns (exluding individual goods)\n",
    "numeric_columns = ['lat', 'lon', 'months_open', 'num_items_sold', 'state_pop']\n",
    "\n",
    "# Make a scatter matrix of numeric columns\n",
    "pd.plotting.scatter_matrix(markets[numeric_columns], \n",
    "                           # Make figure large to show details\n",
    "                           figsize = [15,10], \n",
    "                           # Lower point opacity to show overlap\n",
    "                           alpha = 0.5)\n",
    "\n",
    "plt.show()"
   ]
  },
  {
   "cell_type": "markdown",
   "metadata": {},
   "source": [
    "## Digging in with basic transforms"
   ]
  },
  {
   "cell_type": "code",
   "execution_count": null,
   "metadata": {},
   "outputs": [],
   "source": [
    "# Create a new logged population column \n",
    "markets['log_pop'] = np.log(markets['state_pop'])\n",
    "\n",
    "# Draw a scatterplot of log-population to # of items sold\n",
    "sns.scatterplot(x = 'log_pop', \n",
    "                  y = 'num_items_sold', \n",
    "                  # Reduce point opacity to show overlap\n",
    "                  alpha = 0.25, \n",
    "                  data = markets)\n",
    "\n",
    "plt.show()"
   ]
  },
  {
   "cell_type": "markdown",
   "metadata": {},
   "source": [
    "## Is latitude related to months open?"
   ]
  },
  {
   "cell_type": "code",
   "execution_count": null,
   "metadata": {},
   "outputs": [],
   "source": [
    "sns.regplot(x = 'lat', \n",
    "            y = 'months_open', \n",
    "            # Set scatter point opacity & color\n",
    "            scatter_kws = {'alpha':0.1, 'color':'gray'}, \n",
    "            # Disable confidence band\n",
    "            ci = False, \n",
    "            data = markets)\n",
    "\n",
    "plt.show()"
   ]
  },
  {
   "cell_type": "markdown",
   "metadata": {},
   "source": [
    "## What state is the most market-friendly?"
   ]
  },
  {
   "cell_type": "code",
   "execution_count": null,
   "metadata": {},
   "outputs": [],
   "source": [
    "g = sns.regplot(\n",
    "    \"log_markets\", \"log_pop\", \n",
    "    ci = False,\n",
    "    # Shrink scatter plot points\n",
    "    scatter_kws = {'s':2},\n",
    "    data = markets_and_pop)\n",
    "\n",
    "# Iterate over the rows of the data\n",
    "for _, row in markets_and_pop.iterrows():\n",
    "    state, _, _, log_markets, log_pop = row\n",
    "    # Place annotation and reduce size for clarity\n",
    "    g.annotate(state, (log_markets,log_pop), size = 10)\n",
    "\n",
    "plt.show()"
   ]
  },
  {
   "cell_type": "markdown",
   "metadata": {},
   "source": [
    "## Popularity of goods sold by state"
   ]
  },
  {
   "cell_type": "code",
   "execution_count": null,
   "metadata": {},
   "outputs": [],
   "source": [
    "# Subset goods to interesting ones\n",
    "to_plot = ['Cheese','Maple','Fruits','Grains','Seafood','Plants','Vegetables']\n",
    "goods_by_state_small = goods_by_state.query(\"good in \"+str(to_plot))\n",
    "\n",
    "g = sns.scatterplot('good','prop_selling', data = goods_by_state_small,\n",
    "                    # Hide scatter points by shrinking to nothing\n",
    "                    s = 0)\n",
    "\n",
    "for _,row in goods_by_state_small.iterrows():\n",
    "  g.annotate(row['state'], (row['good'], row['prop_selling']), \n",
    "             # Center annotation on axis\n",
    "             ha = 'center', \n",
    "             size = 10)\n",
    "\n",
    "plt.show()"
   ]
  },
  {
   "cell_type": "markdown",
   "metadata": {},
   "source": [
    "## Stacking to find trends"
   ]
  },
  {
   "cell_type": "code",
   "execution_count": null,
   "metadata": {},
   "outputs": [],
   "source": [
    "# Setup two stacked plots\n",
    "_, (ax1, ax2) = plt.subplots(2, 1)\n",
    "\n",
    "# Draw location scatter plot on first plot\n",
    "sns.scatterplot(\"lon\", \"lat\", 'months_open', \n",
    "                palette = sns.light_palette(\"orangered\",n_colors = 12), \n",
    "                legend = False, data = markets,\n",
    "                ax = ax1);\n",
    "\n",
    "# Plot a regression plot on second plot\n",
    "sns.regplot('lon', 'months_open',\n",
    "            scatter_kws = {'alpha': 0.2, 'color': 'gray', 'marker': '|'},\n",
    "            lowess = True,\n",
    "            marker = '|', data = markets, \n",
    "            ax = ax2)\n",
    "\n",
    "plt.show()"
   ]
  },
  {
   "cell_type": "markdown",
   "metadata": {},
   "source": [
    "## Using a plot as a legend"
   ]
  },
  {
   "cell_type": "code",
   "execution_count": null,
   "metadata": {},
   "outputs": [],
   "source": [
    "# Set up two side-by-side plots\n",
    "f, (ax1, ax2) = plt.subplots(1, 2, figsize = (15, 15))\n",
    "\n",
    "# Map the column for selected states to the bar color\n",
    "sns.barplot('people_per_market', 'state', hue = 'is_selected',\n",
    "            # Disable dodge so bars are full size\n",
    "            dodge = False, \n",
    "            data = markets_by_state, ax = ax1)\n",
    "\n",
    "# Map selected states to point color\n",
    "sns.scatterplot('log_pop', 'log_markets', hue = 'is_selected', \n",
    "                data = markets_by_state, ax = ax2, s = 100)\n",
    "\n",
    "# Remove the legend for both plots\n",
    "ax1.legend_.remove()\n",
    "ax2.legend_.remove() \n",
    "plt.show() "
   ]
  },
  {
   "cell_type": "markdown",
   "metadata": {},
   "source": [
    "## Cleaning up the background"
   ]
  },
  {
   "cell_type": "code",
   "execution_count": null,
   "metadata": {},
   "outputs": [],
   "source": [
    "# Set background to white with grid\n",
    "sns.set_style('whitegrid')\n",
    "\n",
    "plt.scatter('good','prop selling', marker = '_', alpha = 0.7, data = goods_by_state)\n",
    "\n",
    "# Draw lines across goods for highlighted states\n",
    "highlighted = goods_by_state.query(\"state in ['New Mexico','North Dakota','Vermont']\")\n",
    "sns.lineplot('good','prop selling', 'state', data = highlighted, legend = False)\n",
    "\n",
    "# Draw state name at end of lines\n",
    "last_rows = highlighted.groupby('state', as_index = False).agg('first')\n",
    "for _,row in last_rows.iterrows():\n",
    "    plt.annotate(row['state'], (row['good'], row['prop selling']),\n",
    "                 ha = 'right', xytext = (5,0), textcoords = 'offset pixels')\n",
    "\n",
    "# Remove all borders\n",
    "sns.despine(bottom = True, left = True)\n",
    "plt.show()"
   ]
  },
  {
   "cell_type": "markdown",
   "metadata": {},
   "source": [
    "## Remixing a plot"
   ]
  },
  {
   "cell_type": "code",
   "execution_count": null,
   "metadata": {},
   "outputs": [],
   "source": [
    "# Decrease font size so state names are less crowded\n",
    "sns.set(font_scale = 0.85)\n",
    "\n",
    "# Switch to an appropriate color palette\n",
    "blue_pal = sns.light_palette(\"steelblue\", as_cmap = True)\n",
    "\n",
    "# Order states by latitude\n",
    "g = sns.heatmap(markets_by_month.reindex(state_by_lat), \n",
    "            # Add gaps between cells\n",
    "            linewidths = 0.1, \n",
    "            # Set new palette and remove color bar \n",
    "            cmap = blue_pal, cbar = False,\n",
    "            yticklabels = True)\n",
    "\n",
    "# Rotate y-axis ticks \n",
    "g.set_yticklabels(g.get_yticklabels(), rotation = 0)\n",
    "plt.title('Distribution of months open for farmers markets by latitude')\n",
    "plt.show()"
   ]
  },
  {
   "cell_type": "markdown",
   "metadata": {},
   "source": [
    "## Enhancing legibility"
   ]
  },
  {
   "cell_type": "code",
   "execution_count": null,
   "metadata": {},
   "outputs": [],
   "source": [
    "# Draw barplot w/ colors mapped to state_colors vector\n",
    "sns.barplot('people_per_market', 'state', palette = state_colors,\n",
    "            data = markets_by_state, ax = ax1)\n",
    "\n",
    "# Map state colors vector to the scatterplot as well\n",
    "p = sns.scatterplot('population', 'num_markets', color = state_colors,\n",
    "                    data = markets_by_state, s = 60, ax = ax2)\n",
    "\n",
    "# Log the x and y scales of our scatter plot so it's easier to read\n",
    "ax2.set(xscale = \"log\", yscale = 'log')\n",
    "\n",
    "# Increase annotation text size for legibility\n",
    "ax2.annotate(tx_message, xy = (26956958,230), \n",
    "             xytext = (26956958, 450),ha = 'right', \n",
    "             size = 15, backgroundcolor = 'white',\n",
    "             arrowprops = {'facecolor':'black', 'width': 3})\n",
    "sns.set_style('whitegrid')\n",
    "plt.show() "
   ]
  },
  {
   "cell_type": "code",
   "execution_count": null,
   "metadata": {},
   "outputs": [],
   "source": []
  }
 ],
 "metadata": {
  "kernelspec": {
   "display_name": "Python 3",
   "language": "python",
   "name": "python3"
  },
  "language_info": {
   "codemirror_mode": {
    "name": "ipython",
    "version": 3
   },
   "file_extension": ".py",
   "mimetype": "text/x-python",
   "name": "python",
   "nbconvert_exporter": "python",
   "pygments_lexer": "ipython3",
   "version": "3.7.6"
  },
  "toc": {
   "base_numbering": 1,
   "nav_menu": {},
   "number_sections": true,
   "sideBar": true,
   "skip_h1_title": false,
   "title_cell": "Table of Contents",
   "title_sidebar": "Contents",
   "toc_cell": true,
   "toc_position": {},
   "toc_section_display": true,
   "toc_window_display": false
  }
 },
 "nbformat": 4,
 "nbformat_minor": 4
}
